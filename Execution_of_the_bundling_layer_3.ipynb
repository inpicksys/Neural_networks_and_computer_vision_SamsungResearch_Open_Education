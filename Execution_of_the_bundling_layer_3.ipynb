{
  "nbformat": 4,
  "nbformat_minor": 0,
  "metadata": {
    "colab": {
      "name": "Execution of the bundling layer.3.ipynb",
      "provenance": [],
      "collapsed_sections": []
    },
    "kernelspec": {
      "name": "python3",
      "display_name": "Python 3"
    }
  },
  "cells": [
    {
      "cell_type": "code",
      "metadata": {
        "id": "CYiQNjnpO5im",
        "colab_type": "code",
        "colab": {}
      },
      "source": [
        "import torch\n",
        "from abc import ABC, abstractmethod\n",
        "import numpy as np"
      ],
      "execution_count": 32,
      "outputs": []
    },
    {
      "cell_type": "code",
      "metadata": {
        "id": "h9AyYNThPAOm",
        "colab_type": "code",
        "colab": {}
      },
      "source": [
        "def calc_out_shape(input_matrix_shape, out_channels, kernel_size, stride, padding):\n",
        "    batch_size, channels_count, input_height, input_width = input_matrix_shape\n",
        "    output_height = (input_height + 2 * padding - (kernel_size - 1) - 1) // stride + 1\n",
        "    output_width = (input_width + 2 * padding - (kernel_size - 1) - 1) // stride + 1\n",
        "\n",
        "    return batch_size, out_channels, output_height, output_width"
      ],
      "execution_count": 33,
      "outputs": []
    },
    {
      "cell_type": "code",
      "metadata": {
        "id": "DlyqGNOLPCAh",
        "colab_type": "code",
        "colab": {}
      },
      "source": [
        "class ABCConv2d(ABC):\n",
        "    def __init__(self, in_channels, out_channels, kernel_size, stride):\n",
        "        self.in_channels = in_channels\n",
        "        self.out_channels = out_channels\n",
        "        self.kernel_size = kernel_size\n",
        "        self.stride = stride\n",
        "\n",
        "    def set_kernel(self, kernel):\n",
        "        self.kernel = kernel\n",
        "\n",
        "    @abstractmethod\n",
        "    def __call__(self, input_tensor):\n",
        "        pass\n"
      ],
      "execution_count": 34,
      "outputs": []
    },
    {
      "cell_type": "code",
      "metadata": {
        "id": "Kxo_grh6PCW3",
        "colab_type": "code",
        "colab": {}
      },
      "source": [
        "def create_and_call_conv2d_layer(conv2d_layer_class, stride, kernel, input_matrix):\n",
        "    out_channels = kernel.shape[0]\n",
        "    in_channels = kernel.shape[1]\n",
        "    kernel_size = kernel.shape[2]\n",
        "\n",
        "    layer = conv2d_layer_class(in_channels, out_channels, kernel_size, stride)\n",
        "    layer.set_kernel(kernel)\n",
        "\n",
        "    return layer(input_matrix)"
      ],
      "execution_count": 35,
      "outputs": []
    },
    {
      "cell_type": "code",
      "metadata": {
        "id": "F0LAzeliPCZ-",
        "colab_type": "code",
        "colab": {}
      },
      "source": [
        "class Conv2d(ABCConv2d):\n",
        "    def __init__(self, in_channels, out_channels, kernel_size, stride):\n",
        "        self.conv2d = torch.nn.Conv2d(in_channels, out_channels, kernel_size,\n",
        "                                      stride, padding=0, bias=False)\n",
        "\n",
        "    def set_kernel(self, kernel):\n",
        "        self.conv2d.weight.data = kernel\n",
        "\n",
        "    def __call__(self, input_tensor):\n",
        "        return self.conv2d(input_tensor)"
      ],
      "execution_count": 36,
      "outputs": []
    },
    {
      "cell_type": "code",
      "metadata": {
        "id": "bOZeKuqWPCds",
        "colab_type": "code",
        "colab": {}
      },
      "source": [
        "def test_conv2d_layer(conv2d_layer_class, batch_size=2,\n",
        "                      input_height=4, input_width=4, stride=2):\n",
        "    kernel = torch.tensor(\n",
        "                      [[[[0., 1, 0],\n",
        "                         [1,  2, 1],\n",
        "                         [0,  1, 0]],\n",
        "\n",
        "                        [[1, 2, 1],\n",
        "                         [0, 3, 3],\n",
        "                         [0, 1, 10]],\n",
        "\n",
        "                        [[10, 11, 12],\n",
        "                         [13, 14, 15],\n",
        "                         [16, 17, 18]]]])\n",
        "\n",
        "    in_channels = kernel.shape[1]\n",
        "\n",
        "    input_tensor = torch.arange(0, batch_size * in_channels *\n",
        "                                input_height * input_width,\n",
        "                                out=torch.FloatTensor()) \\\n",
        "        .reshape(batch_size, in_channels, input_height, input_width)\n",
        "\n",
        "    custom_conv2d_out = create_and_call_conv2d_layer(\n",
        "        conv2d_layer_class, stride, kernel, input_tensor)\n",
        "    conv2d_out = create_and_call_conv2d_layer(\n",
        "        Conv2d, stride, kernel, input_tensor)\n",
        "    return torch.allclose(custom_conv2d_out, conv2d_out) \\\n",
        "             and (custom_conv2d_out.shape == conv2d_out.shape)"
      ],
      "execution_count": 44,
      "outputs": []
    },
    {
      "cell_type": "code",
      "metadata": {
        "id": "S-5EHpkuPLEp",
        "colab_type": "code",
        "colab": {
          "base_uri": "https://localhost:8080/",
          "height": 153
        },
        "outputId": "afaa62ee-af38-433d-d3ac-19b0974cd0e0"
      },
      "source": [
        "class Conv2dMatrixV2(ABCConv2d):\n",
        "    # Функция преобразования кернела в нужный формат.\n",
        "    def _convert_kernel(self):\n",
        "        matrix_zeros = np.zeros((self.kernel.size()[0],self.kernel.size()[1] * self.kernel.size()[2]*self.kernel.size()[3]))\n",
        "        j, k = 0, 0\n",
        "        for image in self.kernel[0].numpy():\n",
        "          for i in range(len(image)):\n",
        "            matrix_zeros[:, k:k+self.kernel.size()[2]] = image[i]\n",
        "            k += self.kernel.size()[2]\n",
        "          j+=1\n",
        "        converted_kernel = torch.from_numpy(matrix_zeros).float()# Реализуйте преобразование кернела.\n",
        "        return converted_kernel\n",
        "\n",
        "    # Функция преобразования входа в нужный формат.\n",
        "    def _convert_input(self, torch_input, output_height, output_width):\n",
        "        matrix_zeros = np.zeros((torch_input.size()[1] *self.kernel.size()[2]*self.kernel.size()[3], torch_input.size()[0] ))\n",
        "        for i in range(matrix_zeros.shape[1]):\n",
        "          j = 0\n",
        "          for core in torch_input[i].numpy():\n",
        "            core_reshape = core.reshape(1, core.shape[0]*core.shape[1])\n",
        "            k = 0\n",
        "            for g in range(self.kernel.size()[2]):\n",
        "              matrix_zeros[j:j+self.kernel.size()[2], i] = core_reshape[:,k:k+self.kernel.size()[2]] # np.flip(core_reshape, 1)\n",
        "              j += self.kernel.size()[2]\n",
        "              k += self.kernel.size()[2]+1\n",
        "        converted_input = torch.from_numpy(matrix_zeros).float() # Реализуйте преобразование входа.\n",
        "        return converted_input\n",
        "\n",
        "    def __call__(self, torch_input):\n",
        "        batch_size, out_channels, output_height, output_width\\\n",
        "            = calc_out_shape(\n",
        "                input_matrix_shape=torch_input.shape,\n",
        "                out_channels=self.kernel.shape[0],\n",
        "                kernel_size=self.kernel.shape[2],\n",
        "                stride=self.stride,\n",
        "                padding=0)\n",
        "\n",
        "        converted_kernel = self._convert_kernel()\n",
        "        converted_input = self._convert_input(torch_input, output_height, output_width)\n",
        "\n",
        "        conv2d_out_alternative_matrix_v2 = converted_kernel @ converted_input\n",
        "        \n",
        "        return conv2d_out_alternative_matrix_v2.transpose(0, 1).view(torch_input.shape[0], self.out_channels, output_height, output_width).transpose(1, 3).transpose(2, 3)\n",
        "\n",
        "# Проверка происходит автоматически вызовом следующего кода\n",
        "# (раскомментируйте для самостоятельной проверки,\n",
        "#  в коде для сдачи задания должно быть закомментировано):\n",
        "print(test_conv2d_layer(Conv2dMatrixV2))"
      ],
      "execution_count": 161,
      "outputs": [
        {
          "output_type": "stream",
          "text": [
            "test tensor([[[[ 5252.]]],\n",
            "\n",
            "\n",
            "        [[[12596.]]]]) tensor([[[[ 5252.]]],\n",
            "\n",
            "\n",
            "        [[[12596.]]]], grad_fn=<MkldnnConvolutionBackward>)\n",
            "True\n"
          ],
          "name": "stdout"
        }
      ]
    }
  ]
}