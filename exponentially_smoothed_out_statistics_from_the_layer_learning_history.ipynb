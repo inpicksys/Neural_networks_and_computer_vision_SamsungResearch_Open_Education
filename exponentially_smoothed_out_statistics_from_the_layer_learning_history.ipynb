{
  "nbformat": 4,
  "nbformat_minor": 0,
  "metadata": {
    "colab": {
      "name": "exponentially smoothed out statistics from the layer learning history.ipynb",
      "provenance": [],
      "collapsed_sections": []
    },
    "kernelspec": {
      "name": "python3",
      "display_name": "Python 3"
    }
  },
  "cells": [
    {
      "cell_type": "code",
      "metadata": {
        "id": "T5z7BB9YLDf8",
        "colab_type": "code",
        "colab": {}
      },
      "source": [
        "import numpy as np\n",
        "import torch\n",
        "import torch.nn as nn"
      ],
      "execution_count": 1,
      "outputs": []
    },
    {
      "cell_type": "code",
      "metadata": {
        "id": "XW8RBnxSU6Z7",
        "colab_type": "code",
        "colab": {}
      },
      "source": [
        "input_size = 3\n",
        "batch_size = 5\n",
        "eps = 1e-1"
      ],
      "execution_count": 2,
      "outputs": []
    },
    {
      "cell_type": "code",
      "metadata": {
        "id": "djKiWpv1LHcW",
        "colab_type": "code",
        "colab": {}
      },
      "source": [
        "class CustomBatchNorm1d:\n",
        "    def __init__(self, weight, bias, eps, momentum):\n",
        "        self.weight = weight\n",
        "        self.bias = bias\n",
        "        self.eps = eps\n",
        "        self.momentum = momentum \n",
        "        self.list1 = []\n",
        "        self.running_var = 1\n",
        "        self.running_mean = 0\n",
        "        self.flag = True # Реализуйте в этом месте конструктор.\n",
        "\n",
        "    def __call__(self, input_tensor):\n",
        "      #print(input_tensor)\n",
        "      ten_sor = input_tensor.numpy()\n",
        "      if self.flag == True:\n",
        "        matrix_mean = np.mean(ten_sor, axis = 0)\n",
        "        math_t = (np.mean((ten_sor - matrix_mean)**2, axis = 0))\n",
        "        ten_sor = (ten_sor -  matrix_mean)/np.sqrt(math_t + self.eps)\n",
        "        \n",
        "        self.running_mean = (1 - self.momentum) * matrix_mean + self.running_mean * self.momentum\n",
        "        self.running_var = (1 - self.momentum) * math_t * batch_size / (batch_size-1) + self.momentum * self.running_var\n",
        "      else:   \n",
        "        ten_sor = (ten_sor -  self.running_mean)/np.sqrt(self.running_var + self.eps)\n",
        "  \n",
        "      normed_tensor = torch.from_numpy(ten_sor) * self.weight + self.bias # Напишите в этом месте нормирование входного тензора.\n",
        "      return normed_tensor\n",
        "\n",
        "    def eval(self):\n",
        "      self.flag = False # В этом методе реализуйте переключение в режим предикта.\n"
      ],
      "execution_count": 3,
      "outputs": []
    },
    {
      "cell_type": "code",
      "metadata": {
        "id": "JQL9ER4aLLsV",
        "colab_type": "code",
        "colab": {}
      },
      "source": [
        "\n",
        "batch_norm = nn.BatchNorm1d(input_size, eps=eps)\n",
        "batch_norm.bias.data = torch.randn(input_size, dtype=torch.float)\n",
        "batch_norm.weight.data = torch.randn(input_size, dtype=torch.float)\n",
        "batch_norm.momentum = 0.5\n",
        "\n",
        "custom_batch_norm1d = CustomBatchNorm1d(batch_norm.weight.data,\n",
        "                                        batch_norm.bias.data, eps, batch_norm.momentum)\n"
      ],
      "execution_count": 4,
      "outputs": []
    },
    {
      "cell_type": "code",
      "metadata": {
        "id": "bwwzLUVXTEBx",
        "colab_type": "code",
        "colab": {
          "base_uri": "https://localhost:8080/",
          "height": 204
        },
        "outputId": "0b711225-3354-455f-c815-1aa81accc793"
      },
      "source": [
        "# Проверка происходит автоматически вызовом следующего кода\n",
        "# (раскомментируйте для самостоятельной проверки,\n",
        "#  в коде для сдачи задания должно быть закомментировано):\n",
        "all_correct = True\n",
        "\n",
        "for i in range(8):\n",
        "    torch_input = torch.randn(batch_size, input_size, dtype=torch.float)\n",
        "    norm_output = batch_norm(torch_input)\n",
        "    custom_output = custom_batch_norm1d(torch_input)\n",
        "    all_correct &= torch.allclose(norm_output, custom_output) \\\n",
        "         and norm_output.shape == custom_output.shape\n",
        "    \n",
        "print(all_correct)\n",
        "batch_norm.eval()\n",
        "custom_batch_norm1d.eval()\n",
        "print(batch_norm._buffers)\n",
        "\n",
        "for i in range(8):\n",
        "    torch_input = torch.randn(batch_size, input_size, dtype=torch.float)\n",
        "    norm_output = batch_norm(torch_input)\n",
        "    custom_output = custom_batch_norm1d(torch_input)\n",
        "    all_correct &= torch.allclose(norm_output, custom_output) \\\n",
        "        and norm_output.shape == custom_output.shape\n",
        "    #print('1', norm_output,'2', custom_output)\n",
        "print(all_correct)"
      ],
      "execution_count": 5,
      "outputs": [
        {
          "output_type": "stream",
          "text": [
            "True\n",
            "OrderedDict([('running_mean', tensor([ 0.1603, -0.2099,  0.2156])), ('running_var', tensor([1.2720, 0.4545, 0.5378])), ('num_batches_tracked', tensor(8))])\n",
            "[ 0.1602912  -0.20985311  0.2156185 ] & [1.2719766  0.45447376 0.5377768 ]\n",
            "[ 0.1602912  -0.20985311  0.2156185 ] & [1.2719766  0.45447376 0.5377768 ]\n",
            "[ 0.1602912  -0.20985311  0.2156185 ] & [1.2719766  0.45447376 0.5377768 ]\n",
            "[ 0.1602912  -0.20985311  0.2156185 ] & [1.2719766  0.45447376 0.5377768 ]\n",
            "[ 0.1602912  -0.20985311  0.2156185 ] & [1.2719766  0.45447376 0.5377768 ]\n",
            "[ 0.1602912  -0.20985311  0.2156185 ] & [1.2719766  0.45447376 0.5377768 ]\n",
            "[ 0.1602912  -0.20985311  0.2156185 ] & [1.2719766  0.45447376 0.5377768 ]\n",
            "[ 0.1602912  -0.20985311  0.2156185 ] & [1.2719766  0.45447376 0.5377768 ]\n",
            "True\n"
          ],
          "name": "stdout"
        }
      ]
    }
  ]
}