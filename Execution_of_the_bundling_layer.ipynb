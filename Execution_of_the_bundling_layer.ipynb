{
  "nbformat": 4,
  "nbformat_minor": 0,
  "metadata": {
    "colab": {
      "name": "Execution of the bundling layer.ipynb",
      "provenance": [],
      "collapsed_sections": []
    },
    "kernelspec": {
      "name": "python3",
      "display_name": "Python 3"
    },
    "accelerator": "GPU"
  },
  "cells": [
    {
      "cell_type": "code",
      "metadata": {
        "id": "X4PSp3xpFT3o",
        "colab_type": "code",
        "colab": {}
      },
      "source": [
        "import torch\n",
        "from abc import ABC, abstractmethod\n",
        "import numpy as np\n"
      ],
      "execution_count": 1,
      "outputs": []
    },
    {
      "cell_type": "code",
      "metadata": {
        "id": "4OreSNygnp3D",
        "colab_type": "code",
        "colab": {}
      },
      "source": [
        "def calc_out_shape(input_matrix_shape, out_channels, kernel_size, stride, padding):\n",
        "    batch_size, channels_count, input_height, input_width = input_matrix_shape\n",
        "    output_height = (input_height + 2 * padding - (kernel_size - 1) - 1) // stride + 1\n",
        "    output_width = (input_width + 2 * padding - (kernel_size - 1) - 1) // stride + 1\n",
        "\n",
        "    return batch_size, out_channels, output_height, output_width"
      ],
      "execution_count": 2,
      "outputs": []
    },
    {
      "cell_type": "code",
      "metadata": {
        "id": "z0OCHTAgnp95",
        "colab_type": "code",
        "colab": {}
      },
      "source": [
        "class ABCConv2d(ABC):\n",
        "    def __init__(self, in_channels, out_channels, kernel_size, stride):\n",
        "        self.in_channels = in_channels\n",
        "        self.out_channels = out_channels\n",
        "        self.kernel_size = kernel_size\n",
        "        self.stride = stride\n",
        "\n",
        "    def set_kernel(self, kernel):\n",
        "        self.kernel = kernel\n",
        "\n",
        "    @abstractmethod\n",
        "    def __call__(self, input_tensor):\n",
        "        pass"
      ],
      "execution_count": 3,
      "outputs": []
    },
    {
      "cell_type": "code",
      "metadata": {
        "id": "B_ok-uTRnvwe",
        "colab_type": "code",
        "colab": {}
      },
      "source": [
        "class Conv2d(ABCConv2d):\n",
        "    def __init__(self, in_channels, out_channels, kernel_size, stride):\n",
        "        self.conv2d = torch.nn.Conv2d(in_channels, out_channels, kernel_size,\n",
        "                                      stride, padding=0, bias=False)\n",
        "\n",
        "    def set_kernel(self, kernel):\n",
        "        self.conv2d.weight.data = kernel\n",
        "\n",
        "    def __call__(self, input_tensor):\n",
        "        return self.conv2d(input_tensor)"
      ],
      "execution_count": 4,
      "outputs": []
    },
    {
      "cell_type": "code",
      "metadata": {
        "id": "ukQMoq65n0V-",
        "colab_type": "code",
        "colab": {}
      },
      "source": [
        "def create_and_call_conv2d_layer(conv2d_layer_class, stride, kernel, input_matrix):\n",
        "    out_channels = kernel.shape[0]\n",
        "    in_channels = kernel.shape[1]\n",
        "    kernel_size = kernel.shape[2]\n",
        "\n",
        "    layer = conv2d_layer_class(in_channels, out_channels, kernel_size, stride)\n",
        "    layer.set_kernel(kernel)\n",
        "\n",
        "    return layer(input_matrix)"
      ],
      "execution_count": 5,
      "outputs": []
    },
    {
      "cell_type": "code",
      "metadata": {
        "id": "cUGMtiDEn5B-",
        "colab_type": "code",
        "colab": {}
      },
      "source": [
        "def test_conv2d_layer(conv2d_layer_class, batch_size=2,\n",
        "                      input_height=4, input_width=4, stride=2):\n",
        "    kernel = torch.tensor(\n",
        "                      [[[[0., 1, 0],\n",
        "                         [1,  2, 1],\n",
        "                         [0,  1, 0]],\n",
        "\n",
        "                        [[1, 2, 1],\n",
        "                         [0, 3, 3],\n",
        "                         [0, 1, 10]],\n",
        "\n",
        "                        [[10, 11, 12],\n",
        "                         [13, 14, 15],\n",
        "                         [16, 17, 18]]]])\n",
        "\n",
        "    in_channels = kernel.shape[1]\n",
        "\n",
        "    input_tensor = torch.arange(0, batch_size * in_channels *\n",
        "                                input_height * input_width,\n",
        "                                out=torch.FloatTensor()) \\\n",
        "        .reshape(batch_size, in_channels, input_height, input_width)\n",
        "\n",
        "    custom_conv2d_out = create_and_call_conv2d_layer(\n",
        "        conv2d_layer_class, stride, kernel, input_tensor)\n",
        "    conv2d_out = create_and_call_conv2d_layer(\n",
        "        Conv2d, stride, kernel, input_tensor)\n",
        "    \n",
        "    return torch.allclose(custom_conv2d_out, conv2d_out) \\\n",
        "             and (custom_conv2d_out.shape == conv2d_out.shape)"
      ],
      "execution_count": 38,
      "outputs": []
    },
    {
      "cell_type": "code",
      "metadata": {
        "id": "vcSakStyn70Y",
        "colab_type": "code",
        "colab": {}
      },
      "source": [
        "# Сверточный слой через циклы.\n",
        "class Conv2dLoop(ABCConv2d):\n",
        "    def __call__(self, input_tensor):\n",
        "        matrix_in = input_tensor.numpy()\n",
        "        kernel_in = self.kernel.numpy()\n",
        "        lst1 = []\n",
        "        for image in matrix_in:\n",
        "          s = 0\n",
        "          for channel in range(len(image)):\n",
        "            i, j = 0, 0\n",
        "            while i+3 < image[channel].shape[0]:\n",
        "              j=0\n",
        "              while j+3 < image[channel].shape[1]:\n",
        "                g = (image[channel][i:i+3,j:j+3]* kernel_in[0][channel]).sum() #\n",
        "                s += g\n",
        "                j+=self.stride\n",
        "              i+=self.stride\n",
        "          s = [[[s]]]\n",
        "          lst1.append(s)\n",
        "        output_tensor = torch.from_numpy(np.array(lst1)).float() # Напишите в] этом месте вычисление свертки с использованием циклов.\n",
        "        return output_tensor"
      ],
      "execution_count": 98,
      "outputs": []
    },
    {
      "cell_type": "code",
      "metadata": {
        "id": "TKDDtgm7n_0H",
        "colab_type": "code",
        "colab": {
          "base_uri": "https://localhost:8080/",
          "height": 187
        },
        "outputId": "1a3e9191-e4d2-4979-c2ab-f2b27b293afe"
      },
      "source": [
        "# Корректность реализации определится в сравнии со стандартным слоем из pytorch.\n",
        "# Проверка происходит автоматически вызовом следующего кода\n",
        "# (раскомментируйте для самостоятельной проверки,\n",
        "#  в коде для сдачи задания должно быть закомментировано):\n",
        "print(test_conv2d_layer(Conv2dLoop))"
      ],
      "execution_count": 99,
      "outputs": [
        {
          "output_type": "stream",
          "text": [
            "[[[[5252]]], [[[12596]]]]\n",
            "TEST tensor tensor([[[[ 5252.]]],\n",
            "\n",
            "\n",
            "        [[[12596.]]]]) tensor([[[[ 5252.]]],\n",
            "\n",
            "\n",
            "        [[[12596.]]]], grad_fn=<MkldnnConvolutionBackward>)\n",
            "TEST shape torch.Size([2, 1, 1, 1]) torch.Size([2, 1, 1, 1])\n",
            "True\n"
          ],
          "name": "stdout"
        }
      ]
    }
  ]
}