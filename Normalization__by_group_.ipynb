{
  "nbformat": 4,
  "nbformat_minor": 0,
  "metadata": {
    "colab": {
      "name": "Normalization \"by group\".ipynb",
      "provenance": [],
      "collapsed_sections": []
    },
    "kernelspec": {
      "name": "python3",
      "display_name": "Python 3"
    }
  },
  "cells": [
    {
      "cell_type": "code",
      "metadata": {
        "id": "_2112Jrm3xF8",
        "colab_type": "code",
        "colab": {}
      },
      "source": [
        "import torch\n",
        "import torch.nn as nn\n",
        "\n",
        "channel_count = 6\n",
        "eps = 1e-3\n",
        "batch_size = 20\n",
        "input_size = 2\n",
        "\n",
        "input_tensor = torch.randn(batch_size, channel_coun/.t, input_size)"
      ],
      "execution_count": 28,
      "outputs": []
    },
    {
      "cell_type": "code",
      "metadata": {
        "id": "BXBHFv_tT_8R",
        "colab_type": "code",
        "colab": {}
      },
      "source": [
        "def custom_group_norm(input_tensor, groups, eps):\n",
        "  for j in range(input_tensor.size()[0]):\n",
        "      k = 0\n",
        "      for i in range(input_tensor.size()[1]):\n",
        "          for g in range(groups):\n",
        "              n = int(6/groups)\n",
        "              matrix_mean = torch.mean(input_tensor[j,k:k+n])\n",
        "              math_t = (torch.mean((input_tensor[j,k:k+n]- matrix_mean)**2))\n",
        "              input_tensor[j,k:k+n,:] = ((input_tensor[j,k:k+n] -  matrix_mean)/torch.sqrt(math_t + eps))\n",
        "              k += n\n",
        "  normed_tensor = input_tensor # Напишите в этом месте нормирование тензора.\n",
        "  return normed_tensor"
      ],
      "execution_count": 29,
      "outputs": []
    },
    {
      "cell_type": "code",
      "metadata": {
        "id": "OJ2fCCdz325s",
        "colab_type": "code",
        "colab": {
          "base_uri": "https://localhost:8080/",
          "height": 782
        },
        "outputId": "ad989d5c-caac-46e7-fb28-0fa52a8ee8af"
      },
      "source": [
        "# Проверка происходит автоматически вызовом следующего кода\n",
        "# (раскомментируйте для самостоятельной проверки,\n",
        "#  в коде для сдачи задания должно быть закомментировано):\n",
        "all_correct = True\n",
        "for groups in [1, 2, 3, 6]:\n",
        "    group_norm = nn.GroupNorm(groups, channel_count, eps=eps, affine=False)\n",
        "    norm_output = group_norm(input_tensor)\n",
        "    custom_output = custom_group_norm(input_tensor, groups, eps)\n",
        "\n",
        "    print('norm_output',norm_output[0], 'custom_output', custom_output[0])\n",
        "\n",
        "    all_correct &= torch.allclose(norm_output, custom_output, 1e-3)\n",
        "    all_correct &= norm_output.shape == custom_output.shape\n",
        "print(all_correct)"
      ],
      "execution_count": 30,
      "outputs": [
        {
          "output_type": "stream",
          "text": [
            "norm_output tensor([[ 1.4558,  0.5801],\n",
            "        [-0.1308, -1.2604],\n",
            "        [ 0.8546,  0.5671],\n",
            "        [ 1.4548, -0.5984],\n",
            "        [-1.3746, -0.9182],\n",
            "        [ 0.5430, -1.1730]]) custom_output tensor([[ 1.4558,  0.5801],\n",
            "        [-0.1308, -1.2604],\n",
            "        [ 0.8546,  0.5671],\n",
            "        [ 1.4548, -0.5984],\n",
            "        [-1.3746, -0.9182],\n",
            "        [ 0.5430, -1.1730]])\n",
            "norm_output tensor([[ 1.2967,  0.2750],\n",
            "        [-0.5544, -1.8723],\n",
            "        [ 0.5952,  0.2598],\n",
            "        [ 1.7739, -0.2504],\n",
            "        [-1.0157, -0.5658],\n",
            "        [ 0.8749, -0.8169]]) custom_output tensor([[ 1.2967,  0.2750],\n",
            "        [-0.5544, -1.8723],\n",
            "        [ 0.5952,  0.2598],\n",
            "        [ 1.7739, -0.2504],\n",
            "        [-1.0157, -0.5658],\n",
            "        [ 0.8749, -0.8169]])\n",
            "norm_output tensor([[ 1.3011e+00,  4.2096e-01],\n",
            "        [-2.9343e-01, -1.4286e+00],\n",
            "        [ 7.8935e-04, -4.4935e-01],\n",
            "        [ 1.5826e+00, -1.1341e+00],\n",
            "        [-8.5442e-01, -2.4883e-01],\n",
            "        [ 1.6901e+00, -5.8685e-01]]) custom_output tensor([[ 1.3011e+00,  4.2096e-01],\n",
            "        [-2.9343e-01, -1.4286e+00],\n",
            "        [ 7.8935e-04, -4.4935e-01],\n",
            "        [ 1.5826e+00, -1.1341e+00],\n",
            "        [-8.5442e-01, -2.4883e-01],\n",
            "        [ 1.6901e+00, -5.8685e-01]])\n",
            "norm_output tensor([[ 0.9974, -0.9974],\n",
            "        [ 0.9985, -0.9985],\n",
            "        [ 0.9903, -0.9903],\n",
            "        [ 0.9997, -0.9997],\n",
            "        [-0.9946,  0.9946],\n",
            "        [ 0.9996, -0.9996]]) custom_output tensor([[ 0.9974, -0.9974],\n",
            "        [ 0.9985, -0.9985],\n",
            "        [ 0.9903, -0.9903],\n",
            "        [ 0.9997, -0.9997],\n",
            "        [-0.9946,  0.9946],\n",
            "        [ 0.9996, -0.9996]])\n",
            "True\n"
          ],
          "name": "stdout"
        }
      ]
    }
  ]
}